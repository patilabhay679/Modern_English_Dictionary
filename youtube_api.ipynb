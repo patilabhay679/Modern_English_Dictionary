{
 "cells": [
  {
   "cell_type": "code",
   "execution_count": 1,
   "metadata": {},
   "outputs": [],
   "source": [
    "# your_custom_script.py\n",
    "\n",
    "from youtube_transcript_api import YouTubeTranscriptApi\n",
    "from youtube_transcript_api.formatters import JSONFormatter\n",
    "\n",
    "# Must be a single transcript.\n",
    "video_id = 'ltLUadnCyi0'\n",
    "transcript = YouTubeTranscriptApi.get_transcript(video_id) \n",
    "\n",
    "formatter = JSONFormatter()\n",
    "\n",
    "# .format_transcript(transcript) turns the transcript into a JSON string.\n",
    "json_formatted = formatter.format_transcript(transcript)\n",
    "\n",
    "# Now we can write it out to a file.\n",
    "with open('your_filename.json', 'w') as json_file:\n",
    "    json_file.write(json_formatted)\n",
    "\n",
    "# Now should have a new JSON file that you can easily read back into Python."
   ]
  },
  {
   "cell_type": "code",
   "execution_count": 2,
   "metadata": {},
   "outputs": [],
   "source": [
    "import json\n",
    "kx = json.loads(json_formatted)\n",
    "# print(type(kx))         # type class list\n",
    "# print(type(kx[0]))      # type class dict\n",
    "ln = len(kx)\n",
    "\n",
    "with open('manuscript.txt', 'w',encoding='utf-8') as file:\n",
    "    for x in range(ln):\n",
    "        file.write(kx[x]['text'])\n"
   ]
  },
  {
   "cell_type": "code",
   "execution_count": null,
   "metadata": {},
   "outputs": [],
   "source": []
  },
  {
   "cell_type": "code",
   "execution_count": 3,
   "metadata": {},
   "outputs": [],
   "source": [
    "word_list = ['abhay', 'patil', 'sudhakar']\n",
    "d = {'word':word_list, 'occurunces':'dynamic value'}\n"
   ]
  },
  {
   "cell_type": "code",
   "execution_count": 4,
   "metadata": {},
   "outputs": [
    {
     "data": {
      "text/html": [
       "<div>\n",
       "<style scoped>\n",
       "    .dataframe tbody tr th:only-of-type {\n",
       "        vertical-align: middle;\n",
       "    }\n",
       "\n",
       "    .dataframe tbody tr th {\n",
       "        vertical-align: top;\n",
       "    }\n",
       "\n",
       "    .dataframe thead th {\n",
       "        text-align: right;\n",
       "    }\n",
       "</style>\n",
       "<table border=\"1\" class=\"dataframe\">\n",
       "  <thead>\n",
       "    <tr style=\"text-align: right;\">\n",
       "      <th></th>\n",
       "      <th>word</th>\n",
       "      <th>occurunces</th>\n",
       "    </tr>\n",
       "  </thead>\n",
       "  <tbody>\n",
       "    <tr>\n",
       "      <th>0</th>\n",
       "      <td>abhay</td>\n",
       "      <td>dynamic value</td>\n",
       "    </tr>\n",
       "    <tr>\n",
       "      <th>1</th>\n",
       "      <td>patil</td>\n",
       "      <td>dynamic value</td>\n",
       "    </tr>\n",
       "    <tr>\n",
       "      <th>2</th>\n",
       "      <td>sudhakar</td>\n",
       "      <td>dynamic value</td>\n",
       "    </tr>\n",
       "  </tbody>\n",
       "</table>\n",
       "</div>"
      ],
      "text/plain": [
       "       word     occurunces\n",
       "0     abhay  dynamic value\n",
       "1     patil  dynamic value\n",
       "2  sudhakar  dynamic value"
      ]
     },
     "execution_count": 4,
     "metadata": {},
     "output_type": "execute_result"
    }
   ],
   "source": [
    "from pandas import DataFrame \n",
    "df = DataFrame(data=d)\n",
    "df"
   ]
  }
 ],
 "metadata": {
  "interpreter": {
   "hash": "b3b12d6a7aa3da3563cd7fdc2424cdaca53fc186fc2a8ac469f0bbb469a022b9"
  },
  "kernelspec": {
   "display_name": "Python 3.9.9 64-bit",
   "language": "python",
   "name": "python3"
  },
  "language_info": {
   "codemirror_mode": {
    "name": "ipython",
    "version": 3
   },
   "file_extension": ".py",
   "mimetype": "text/x-python",
   "name": "python",
   "nbconvert_exporter": "python",
   "pygments_lexer": "ipython3",
   "version": "3.9.9"
  },
  "orig_nbformat": 4
 },
 "nbformat": 4,
 "nbformat_minor": 2
}
